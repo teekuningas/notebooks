{
 "cells": [
  {
   "cell_type": "markdown",
   "id": "6f5adf50-746f-4cfc-9a62-1aa43539dd8c",
   "metadata": {},
   "source": [
    "# Yleiset kysymykset\n",
    "\n",
    "Esitä sama kysymys jokaiselle näytteelle ja luo tuloksista kooste."
   ]
  },
  {
   "cell_type": "code",
   "execution_count": null,
   "id": "1f716f37-bb32-46d4-9a4e-739f3e0be258",
   "metadata": {},
   "outputs": [],
   "source": [
    "from utils import read_files\n",
    "from utils import strip_webvtt_to_plain_text\n",
    "\n",
    "# And read the texts of interest from the file system\n",
    "contents = read_files(folder=\"data/linnut-03\", prefix=\"inputfile\")\n",
    "# contents = read_files(folder=\"data/linnut\", prefix=\"nayte\")\n",
    "\n",
    "# Remove timestamps if present\n",
    "contents = [(fname, strip_webvtt_to_plain_text(text)) for fname, text in contents]\n",
    "\n",
    "# Print to check that texts are correctly read\n",
    "for fname, text in contents:\n",
    "    print(f\"{fname}:\\n\\n\")\n",
    "    print(f\"{text}\\n\\n\")"
   ]
  },
  {
   "cell_type": "code",
   "execution_count": null,
   "id": "df636cb4-fd68-4a6f-94fd-3a4fe44ff657",
   "metadata": {},
   "outputs": [],
   "source": [
    "from llm import generate_simple\n",
    "\n",
    "# Define the question\n",
    "question = \"\"\"\n",
    "Esiintyykö tekstissä ristiriitaisia tunteita?\n",
    "\"\"\"\n",
    "\n",
    "results = []\n",
    "for fname, text in contents:\n",
    "    # Define the instructions. \n",
    "    instruction = \"\"\"\n",
    "    Olet laadullisen tutkimuksen avustaja. Saat tekstinäytteen sekä siihen liittyvän kysymyksen. Lue teksti huolella ja vastaa ainoastaan sen perusteella kysymykseen.\n",
    "    \"\"\"\n",
    "\n",
    "    # Define the content snippet given to the llm.\n",
    "    content = f\"Tekstinäyte: {text} \\n\\n Kysymys: \\n\\n {question}\"\n",
    "\n",
    "    # Generate the answer\n",
    "    result = generate_simple(instruction, content, seed=10)\n",
    "\n",
    "    # Extract the result\n",
    "    answer = result['message']['content']\n",
    "            \n",
    "    # Store it\n",
    "    results.append({\n",
    "        \"fname\": fname,\n",
    "        \"question\": question,\n",
    "        \"text\": text,\n",
    "        \"answer\": answer\n",
    "    })\n",
    "\n",
    "print(\"Vastaukset:\\n\")\n",
    "for result in results:\n",
    "    print(f\"{result['fname']}:\\n\\n {result['answer']}\\n\\n\")"
   ]
  },
  {
   "cell_type": "code",
   "execution_count": null,
   "id": "6da6a9b5-db8a-43c9-bb73-48f717228665",
   "metadata": {},
   "outputs": [],
   "source": [
    "# Define the instructions. \n",
    "instruction = \"\"\"\n",
    "Olet laadullisen tutkimuksen avustaja. Sinulle annetaan syötteenä kysymys, joka on esitetty kokoelmalle tekstejä, jokaiselle tekstille erikseen, \n",
    "ja tekstikohtaiset vastaukset tähän kysymykseen. Luo näistä mahdollisimman havainnollistava tiivistelmä. Jos mahdollista, erittele esiintyminen teksteissä nimittäin.\n",
    "\"\"\"\n",
    "\n",
    "content = f\"Kysymys: {question}\"\n",
    "content += \"\\n--------------------------------\\n\"\n",
    "for result in results:\n",
    "    content += f\"Tiedostonnimi: {result['fname']}\\n\\n\"\n",
    "    content += f\"Vastaus: \\n\\n {result['answer']}\"\n",
    "    content += \"\\n--------------------------------\\n\"\n",
    "\n",
    "print(\"Syötteenä tekoälylle menee:\\n\\n\")\n",
    "print(content)\n",
    "\n",
    "# Generate the answer\n",
    "result = generate_simple(instruction, content, seed=10)\n",
    "\n",
    "# Extract the result\n",
    "answer = result['message']['content']\n",
    "\n",
    "print(\"Vastaukseksi tekoälyltä tulee:\\n\\n\")\n",
    "print(answer)"
   ]
  },
  {
   "cell_type": "code",
   "execution_count": null,
   "id": "d343fa33-be02-4ea6-9975-2fceefeed0e5",
   "metadata": {},
   "outputs": [],
   "source": []
  }
 ],
 "metadata": {
  "kernelspec": {
   "display_name": "Python 3 (ipykernel)",
   "language": "python",
   "name": "python3"
  },
  "language_info": {
   "codemirror_mode": {
    "name": "ipython",
    "version": 3
   },
   "file_extension": ".py",
   "mimetype": "text/x-python",
   "name": "python",
   "nbconvert_exporter": "python",
   "pygments_lexer": "ipython3",
   "version": "3.12.9"
  }
 },
 "nbformat": 4,
 "nbformat_minor": 5
}
